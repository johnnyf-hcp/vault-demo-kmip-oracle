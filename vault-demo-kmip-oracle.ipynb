{
 "cells": [
  {
   "cell_type": "markdown",
   "metadata": {},
   "source": [
    "# HashiCorp Vault Demo for KMIP Secrets Engine and Oracle Database Enterprise TDE\n",
    "\n",
    "Note: This notebook is still not fully functioning as we are missing the ARM64 pluging for this to work. Work in progress.\n",
    "\n",
    "The OASIS Key Management Interoperability Protocol (KMIP) standard is a widely adopted protocol for handling cryptographic workloads and secrets management for enterprise infrastructure such as databases, network storage, and virtual/physical servers.  When an organization has services and applications that need to perform cryptographic operations (e.g.: transparent database encryption (TDE), full disk encryption, etc.), it often delegates the key management task to an external provider via KMIP protocol. \n",
    "\n",
    "This demo demonstrates HashiCorp Vault's KMIP Secrets Engine to allow Vault to function as a KMIP server for clients that that retrieve cryptographic keys for encrypting data via the KMIP protocol.\n",
    "\n",
    "Ref: https://developer.hashicorp.com/vault/docs/enterprise/pkcs11-provider/oracle-tde\n",
    "\n",
    "## Setup of the Demo\n",
    "\n",
    "This setup is tested on MacOS and is meant to simulate a distributed setup.  The components used in this demo are:\n",
    "- Vault Enterprise installed on docker (to simulate an external Vault)\n",
    "- Oracle Database Enterprise installed on docker (to simulate an external Oracle DB that requires TDE encryption.  i.e. encryption at rest.)\n",
    "- You have the Vault CLI installed\n",
    "\n",
    "This assumes your Vault server is installed using docker and already running on http://127.0.0.1:8200\n",
    "and you have set your VAULT_ADDR and VAULT_TOKEN variables.\n",
    "\n",
    "Note: You will need Vault to be installed with an ADP KMIP license add-on.  Also note that a Premium license is required if you wish the KMIP listener to scale on the Vault cluster.  For Standard or Plus license, the KMIP listener is only on the leader node.\n",
    "\n",
    "## Requirements to Run This Demo\n",
    "You will need Visual Studio Code to be installed with the Jupyter plugin.  To run this notebook in VS Code, chose the Jupyter kernel and then Bash.\n",
    "- To run the current cell, use Ctrl + Enter.\n",
    "- To run the current cell and advance to the next, use Shift+Enter."
   ]
  },
  {
   "cell_type": "markdown",
   "metadata": {},
   "source": [
    "# Setup Pre-requisites (One-time)\n",
    "\n",
    "Assumes you have docker installed and brew installed\n",
    "\n",
    "- https://docs.docker.com/desktop/install/mac-install/\n",
    "- https://brew.sh/\n",
    "\n",
    "We will require an Oracle account to access the Oracle Database Enterprise trial.\n",
    "\n",
    "- Go to https://edelivery.oracle.com and create an account (Click on \"Create Account\").  Note: Register with a valid email and details otherwise the account might not be allowed to download.  Enter your account details below.\n",
    "- Go to https://container-registry.oracle.com and login.\n",
    "- Search for \"oracle database enterprise\" and click on the Oracle Database Enterprise Edition repository link.\n",
    "- Accept the License Agreement for Oracle Database Enterprise Edition.\n",
    "- See the tags of the container version that you wish to use and update the docker commands below."
   ]
  },
  {
   "cell_type": "code",
   "execution_count": null,
   "metadata": {
    "vscode": {
     "languageId": "shellscript"
    }
   },
   "outputs": [],
   "source": [
    "# Important! Update your oracle account details here.\n",
    "export ORACLE_REG_EMAIL=\n",
    "export ORACLE_REG_PASSWORD=\n",
    "\n",
    "# Use the Oracle DB Enterprise docker image for linux/arm64\n",
    "# Using 19c as that is the only build with arm64 support\n",
    "export ORACLEDB_TAG=19.19.0.0\n",
    "\n",
    "# Log into the Oracle docker registry\n",
    "echo \"$ORACLE_REG_PASSWORD\" | docker login container-registry.oracle.com -u $ORACLE_REG_EMAIL --password-stdin\n",
    "# Pull the MySQL Enterprise docker image\n",
    "docker pull container-registry.oracle.com/database/enterprise:$ORACLEDB_TAG"
   ]
  },
  {
   "cell_type": "markdown",
   "metadata": {},
   "source": [
    "# Setting up HashiCorp Vault"
   ]
  },
  {
   "cell_type": "code",
   "execution_count": null,
   "metadata": {
    "vscode": {
     "languageId": "shellscript"
    }
   },
   "outputs": [],
   "source": [
    "# Optional.  The following are some sample commands for running Vault Enterprise in docker.\n",
    "# Expose both the Vault API and the KMIP ports to the host machine.\n",
    "export VAULT_PORT=8200\n",
    "export VAULT_KMIP_PORT=5696\n",
    "export VAULT_ADDR=\"http://127.0.0.1:${VAULT_PORT}\"\n",
    "export VAULT_TOKEN=\"root\"\n",
    "# Change the path to your license file\n",
    "export VAULT_LICENSE=$(cat $HOME/vault-enterprise/vault_local/data/vault.hclic)\n",
    "docker run -d --rm --name vault-enterprise --cap-add=IPC_LOCK \\\n",
    "-e \"VAULT_DEV_ROOT_TOKEN_ID=${VAULT_TOKEN}\" \\\n",
    "-e \"VAULT_DEV_LISTEN_ADDRESS=:${VAULT_PORT}\" \\\n",
    "-e \"VAULT_LICENSE=${VAULT_LICENSE}\" \\\n",
    "-p ${VAULT_KMIP_PORT}:${VAULT_KMIP_PORT} \\\n",
    "-p ${VAULT_PORT}:${VAULT_PORT} hashicorp/vault-enterprise:latest"
   ]
  },
  {
   "cell_type": "markdown",
   "metadata": {},
   "source": [
    "# Vault KMIP Secrets Engine\n",
    "This section demonstrates the KMIP secrets engine and how it functions as a KMIP server with Oracle Database TDE.\n",
    "\n",
    "Ref:\n",
    "- https://developer.hashicorp.com/vault/docs/secrets/kmip\n",
    "\n",
    "## Step 1 - Enable Vault KMIP Engine"
   ]
  },
  {
   "cell_type": "code",
   "execution_count": null,
   "metadata": {
    "vscode": {
     "languageId": "shellscript"
    }
   },
   "outputs": [],
   "source": [
    "# Enable KMIP secrets engine at the default mount path\n",
    "#vault secrets disable kmip\n",
    "vault secrets enable kmip"
   ]
  },
  {
   "cell_type": "code",
   "execution_count": null,
   "metadata": {
    "vscode": {
     "languageId": "shellscript"
    }
   },
   "outputs": [],
   "source": [
    "# Start KMIP Server and set client TLS certificate TTL to 365 days\n",
    "\n",
    "# Option 1 - Elliptic Curve (EC) is the default\n",
    "vault write kmip/config listen_addrs=0.0.0.0:$VAULT_KMIP_PORT default_tls_client_ttl=365d\n",
    "# Option 2 - RSA\n",
    "#vault write kmip/config listen_addrs=0.0.0.0:$VAULT_KMIP_PORT tls_ca_key_type=\"rsa\" tls_ca_key_bits=2048 default_tls_client_ttl=365d\n",
    "\n",
    "# Check the KMIP configuration\n",
    "echo\n",
    "vault read kmip/config"
   ]
  },
  {
   "cell_type": "markdown",
   "metadata": {},
   "source": [
    "## Step 2 - Creating the KMIP certificates for Oracle Database TDE"
   ]
  },
  {
   "cell_type": "code",
   "execution_count": null,
   "metadata": {
    "vscode": {
     "languageId": "shellscript"
    }
   },
   "outputs": [],
   "source": [
    "# Create a folder for the KMIP certificates\n",
    "mkdir -p root/etc"
   ]
  },
  {
   "cell_type": "code",
   "execution_count": null,
   "metadata": {
    "vscode": {
     "languageId": "shellscript"
    }
   },
   "outputs": [],
   "source": [
    "# On MacOS, the casing doesn't matter.\n",
    "vault read -format=json kmip/ca | jq -r .data.ca_pem > root/etc/ca.pem\n",
    "\n",
    "echo \"CA certification:\"\n",
    "cat root/etc/ca.pem"
   ]
  },
  {
   "cell_type": "markdown",
   "metadata": {},
   "source": [
    "## Step 2a - Create KMIP Scope in Vault\n",
    "\n",
    "The KMIP secrets engine uses the concept of scopes to partition KMIP managed object storage into multiple named buckets. Within a scope, roles can be created which dictate the set of allowed operations that the particular role can perform. TLS client certificates can be generated for a role, which services and applications can then use when sending KMIP requests against Vault's KMIP secret engine.\n",
    "\n",
    "In order to generate client certificates for KMIP clients to interact with Vault's KMIP server, we must first create a scope and role and specify the desired set of allowed operations for it."
   ]
  },
  {
   "cell_type": "code",
   "execution_count": null,
   "metadata": {
    "vscode": {
     "languageId": "shellscript"
    }
   },
   "outputs": [],
   "source": [
    "# Settings for the KMIP scope and role to be created\n",
    "export KMIP_SVC_NAME=my-service\n",
    "export KMIP_ROLE_NAME=admin\n",
    "# Create a scope\n",
    "vault write -f kmip/scope/$KMIP_SVC_NAME\n",
    "\n",
    "# List scopes and verify the KMIP scope has been created\n",
    "echo\n",
    "vault list kmip/scope"
   ]
  },
  {
   "cell_type": "code",
   "execution_count": null,
   "metadata": {
    "vscode": {
     "languageId": "shellscript"
    }
   },
   "outputs": [],
   "source": [
    "# Create the KMIP role (note the TTL if not set, it uses the default Vault token/lease TTL of 768hrs)\n",
    "vault write kmip/scope/$KMIP_SVC_NAME/role/$KMIP_ROLE_NAME operation_all=true tls_client_ttl=365d\n",
    "\n",
    "# List roles and verify the KMIP role has been created\n",
    "echo\n",
    "vault list kmip/scope/$KMIP_SVC_NAME/role"
   ]
  },
  {
   "cell_type": "code",
   "execution_count": null,
   "metadata": {
    "vscode": {
     "languageId": "shellscript"
    }
   },
   "outputs": [],
   "source": [
    "# Optional - View the role details\n",
    "vault read kmip/scope/$KMIP_SVC_NAME/role/$KMIP_ROLE_NAME"
   ]
  },
  {
   "cell_type": "code",
   "execution_count": null,
   "metadata": {
    "vscode": {
     "languageId": "shellscript"
    }
   },
   "outputs": [],
   "source": [
    "# Generate the required certificates\n",
    "vault write -format=json \\\n",
    "  kmip/scope/$KMIP_SVC_NAME/role/$KMIP_ROLE_NAME/credential/generate \\\n",
    "  format=pem > credential.json\n",
    "\n",
    "# Save the certificate and private key\n",
    "jq -r .data.certificate < credential.json > root/etc/cert.pem\n",
    "jq -r .data.private_key < credential.json > root/etc/key.pem\n",
    "\n",
    "# Remove the temp file\n",
    "rm credential.json"
   ]
  },
  {
   "cell_type": "markdown",
   "metadata": {},
   "source": [
    "## Step 3 - Configuring the PKCS11 Config File for TDE with Vault as the KMIP server"
   ]
  },
  {
   "cell_type": "code",
   "execution_count": null,
   "metadata": {
    "vscode": {
     "languageId": "shellscript"
    }
   },
   "outputs": [],
   "source": [
    "# Get the docker IP address of the Vault server\n",
    "export VAULT_IP=$(docker inspect -f '{{range .NetworkSettings.Networks}}{{.IPAddress}}{{end}}' vault-enterprise)\n",
    "echo \"Vault IP Address is: $VAULT_IP\"\n",
    "echo \"Vault KMIP Port is: $VAULT_KMIP_PORT\"\n",
    "\n",
    "# Create the PKCS11 Config File.  Specifies the KMIP server for Oracle DB\n",
    "# For this demo, we will be using the same Vault server as the standby.\n",
    "echo\n",
    "tee root/etc/vault-pkcs11.hcl <<EOF\n",
    "slot {\n",
    "  server = \"$VAULT_IP:$VAULT_KMIP_PORT\"\n",
    "  tls_cert_path = \"/etc/cert.pem\"\n",
    "  ca_path = \"/etc/ca.pem\"\n",
    "  scope = \"my-service\"\n",
    "}\n",
    "EOF"
   ]
  },
  {
   "cell_type": "code",
   "execution_count": null,
   "metadata": {
    "vscode": {
     "languageId": "shellscript"
    }
   },
   "outputs": [],
   "source": [
    "# Download Vault PKCS#11 Provider\n",
    "# https://releases.hashicorp.com/vault-pkcs11-provider\n",
    "# Take note that PKCS#11 requires GLIC to run. Do take note of the required GLIC version. \n",
    "#wget -P root/etc https://releases.hashicorp.com/vault-pkcs11-provider/0.2.0/vault-pkcs11-provider_0.2.0_linux-el7_amd64.zip\n",
    "\n",
    "# !!This is the problem, we need an arm plugin for our Oracle ARM based container\n",
    "curl -o root/etc/vault-pkcs11-provider_0.2.0_linux-el7_amd64.zip \\\n",
    "  https://releases.hashicorp.com/vault-pkcs11-provider/0.2.0/vault-pkcs11-provider_0.2.0_linux-el7_amd64.zip\n",
    "unzip -d root/etc root/etc/vault-pkcs11-provider_0.2.0_linux-el7_amd64.zip\n"
   ]
  },
  {
   "cell_type": "code",
   "execution_count": null,
   "metadata": {
    "vscode": {
     "languageId": "shellscript"
    }
   },
   "outputs": [],
   "source": [
    "# Run Oracle Database Enterprise in docker.\n",
    "# Expose both the Oracle DB port to the host machine.\n",
    "export ORACLEDB_PORT=1521\n",
    "export ORACLEDB_TAG=19.19.0.0\n",
    "export ORACLE_PASSWORD=MyPassw0rd\n",
    "\n",
    "# Start the Oracle Enterprise container and bind the KMIP certificate files, PKCS#11 Config file, and PKCS#11 Binary to the proper paths\n",
    "echo \"Oracle Database Container Version Used: $ORACLEDB_TAG\"\n",
    "docker run -d --rm --name oracledb-enterprise \\\n",
    "--mount type=bind,src=./root/etc/ca.pem,dst=/etc/ca.pem \\\n",
    "--mount type=bind,src=./root/etc/cert.pem,dst=/etc/cert.pem \\\n",
    "--mount type=bind,src=./root/etc/vault-pkcs11.hcl,dst=/etc/vault-pkcs11.hcl \\\n",
    "--mount type=bind,src=./root/etc/libvault-pkcs11.so,dst=/opt/oracle/extapi/64/hsm/libvault-pkcs11.so \\\n",
    "-e ORACLE_PWD=$ORACLE_PASSWORD \\\n",
    "-p ${ORACLEDB_PORT}:${ORACLEDB_PORT} container-registry.oracle.com/database/enterprise:$ORACLEDB_TAG\n",
    "\n",
    "\n",
    "#-e VAULT_LOG_FILE='/opt/oracle/vault.log' \\\n"
   ]
  },
  {
   "cell_type": "code",
   "execution_count": null,
   "metadata": {
    "vscode": {
     "languageId": "shellscript"
    }
   },
   "outputs": [],
   "source": [
    "# Run Oracle Database Enterprise in docker.\n",
    "# Expose both the Oracle DB port to the host machine.\n",
    "# export ORACLEDB_PORT=1521\n",
    "# export ORACLEDB_TAG=19.19.0.0\n",
    "\n",
    "# echo \"Oracle Database Container Version Used: $ORACLEDB_TAG\"\n",
    "# docker run -d --rm --name oracledb-enterprise \\\n",
    "# -e VAULT_LOG_FILE='/opt/oracle/vault.log' \\\n",
    "# -p ${ORACLEDB_PORT}:${ORACLEDB_PORT} container-registry.oracle.com/database/enterprise:$ORACLEDB_TAG\n"
   ]
  },
  {
   "cell_type": "code",
   "execution_count": null,
   "metadata": {
    "vscode": {
     "languageId": "shellscript"
    }
   },
   "outputs": [],
   "source": [
    "# Verify that the Oracle DB docker container is running\n",
    "docker ps"
   ]
  },
  {
   "cell_type": "code",
   "execution_count": null,
   "metadata": {
    "vscode": {
     "languageId": "shellscript"
    }
   },
   "outputs": [],
   "source": [
    "# Copy over all KMIP ca, KMIP cert, PKCS#11 Config file and PKCS#11 Binary to Oracle\n",
    "# docker cp root/etc/ca.pem oracledb-enterprise:/etc/ca.pem\n",
    "# docker cp root/etc/cert.pem oracledb-enterprise:/etc/cert.pem\n",
    "# docker cp root/etc/vault-pkcs11.hcl oracledb-enterprise:/etc/vault-pkcs11.hcl\n",
    "# oracle mkdir -p /opt/oracle/extapi/64/hsm\n",
    "# docker cp root/etc/libvault-pkcs11.so oracledb-enterprise:/opt/oracle/extapi/64/hsm/libvault-pkcs11.so\n",
    "\n",
    "#THIS IS FOR TRYING TO DEBUG UNABLE TO FIND PROVIDER ERROR\n",
    "# Use privilege user to set the correct ownership for the copied file. \n",
    "# docker exec -u -0 -it oracledb-enterprise chown oracle:oinstall /etc/ca.pem\n",
    "# docker exec -u -0 -it oracledb-enterprise chown oracle:oinstall /etc/cert.pem\n",
    "# docker exec -u -0 -it oracledb-enterprise chown oracle:oinstall /etc/vault-pkcs11.hcl\n",
    "# docker exec -u -0 -it oracledb-enterprise chown oracle:oinstall -R /opt/oracle/extapi\n",
    "# docker exec -u -0 -it oracledb-enterprise chmod 755 /opt/oracle/extapi/64/hsm/libvault-pkcs11.so"
   ]
  },
  {
   "cell_type": "code",
   "execution_count": null,
   "metadata": {
    "vscode": {
     "languageId": "shellscript"
    }
   },
   "outputs": [],
   "source": [
    "# Check and ensure oracledb is fully started. Wait for the completion to be 100%\n",
    "# Stop this task when you see \"DATABASE IS READY TO USE\"\n",
    "docker logs --follow --tail 20 oracledb-enterprise"
   ]
  },
  {
   "cell_type": "markdown",
   "metadata": {},
   "source": [
    "## Step 4 - Oracle DB TDE Configuration Steps"
   ]
  },
  {
   "cell_type": "code",
   "execution_count": null,
   "metadata": {
    "vscode": {
     "languageId": "shellscript"
    }
   },
   "outputs": [],
   "source": [
    "# Change the root password to \"password\"\n",
    "# export ORACLE_PASSWORD=password\n",
    "# oracle ./setPassword.sh $ORACLE_PASSWORD"
   ]
  },
  {
   "cell_type": "code",
   "execution_count": null,
   "metadata": {
    "vscode": {
     "languageId": "shellscript"
    }
   },
   "outputs": [],
   "source": [
    "# set oracle alias to make it easier to execute oracle commands to the oracle db docker container\n",
    "alias oracle=\"docker exec -i oracledb-enterprise\""
   ]
  },
  {
   "cell_type": "code",
   "execution_count": null,
   "metadata": {
    "vscode": {
     "languageId": "shellscript"
    }
   },
   "outputs": [],
   "source": [
    "# Create a new common user (denoted by prefix c##).  Drop if it exists.\n",
    "# Ref: https://oracle-base.com/articles/12c/multitenant-manage-users-and-privileges-for-cdb-and-pdb-12cr1\n",
    "export ORACLE_TDE_ADMIN=tdeadmin\n",
    "oracle sqlplus sys/$ORACLE_PASSWORD@ORCLCDB as sysdba <<EOF\n",
    "DROP USER c##$ORACLE_TDE_ADMIN;\n",
    "CREATE USER c##$ORACLE_TDE_ADMIN IDENTIFIED BY $ORACLE_PASSWORD;\n",
    "GRANT CREATE SESSION TO c##$ORACLE_TDE_ADMIN;\n",
    "GRANT SYSDBA TO c##$ORACLE_TDE_ADMIN CONTAINER=ALL;\n",
    "GRANT ALTER SYSTEM TO c##$ORACLE_TDE_ADMIN;\n",
    "exit\n",
    "EOF\n",
    "#GRANT CONNECT, RESOURCE, DBA TO $ORACLE_TDE_ADMIN;\n",
    "#ALTER SESSION SET \"_ORACLE_SCRIPT\"=TRUE;  \n"
   ]
  },
  {
   "cell_type": "code",
   "execution_count": null,
   "metadata": {
    "vscode": {
     "languageId": "shellscript"
    }
   },
   "outputs": [],
   "source": [
    "# Set the wallet root\n",
    "#oracle sqlplus sys/$ORACLE_PASSWORD@ORCLCDB as sysdba <<EOF\n",
    "oracle sqlplus c##$ORACLE_TDE_ADMIN/$ORACLE_PASSWORD@ORCLCDB as sysdba <<EOF\n",
    "alter system set wallet_root='/opt/oracle/admin/ORCLCDB/wallet' scope=spfile;\n",
    "exit\n",
    "EOF"
   ]
  },
  {
   "cell_type": "code",
   "execution_count": null,
   "metadata": {
    "vscode": {
     "languageId": "shellscript"
    }
   },
   "outputs": [],
   "source": [
    "# Restart Oracle by shutting down first\n",
    "oracle ./shutDown.sh normal"
   ]
  },
  {
   "cell_type": "code",
   "execution_count": null,
   "metadata": {
    "vscode": {
     "languageId": "shellscript"
    }
   },
   "outputs": [],
   "source": [
    "# Start up Oracle\n",
    "oracle ./startUp.sh"
   ]
  },
  {
   "cell_type": "code",
   "execution_count": null,
   "metadata": {
    "vscode": {
     "languageId": "shellscript"
    }
   },
   "outputs": [],
   "source": [
    "# Set the TDE Configuration\n",
    "oracle sqlplus c##$ORACLE_TDE_ADMIN/$ORACLE_PASSWORD@ORCLCDB as sysdba <<EOF\n",
    "alter system set TDE_CONFIGURATION=\"KEYSTORE_CONFIGURATION=HSM\" SCOPE=both;\n",
    "exit\n",
    "EOF"
   ]
  },
  {
   "cell_type": "code",
   "execution_count": null,
   "metadata": {
    "vscode": {
     "languageId": "shellscript"
    }
   },
   "outputs": [],
   "source": [
    "#Check and ensure configuration is correct\n",
    "oracle sqlplus c##$ORACLE_TDE_ADMIN/$ORACLE_PASSWORD@ORCLCDB as sysdba <<EOF\n",
    "SELECT name, value from V\\$PARAMETER WHERE NAME IN ('wallet_root','tde_configuration');\n",
    "exit\n",
    "EOF"
   ]
  },
  {
   "cell_type": "code",
   "execution_count": null,
   "metadata": {
    "vscode": {
     "languageId": "shellscript"
    }
   },
   "outputs": [],
   "source": [
    "# Open the HSM Wallet. \n",
    "#This is the part where if you check the logs, it shows unable to find PKCS#11 library.\n",
    "oracle sqlplus c##$ORACLE_TDE_ADMIN/$ORACLE_PASSWORD@ORCLCDB as sysdba <<EOF\n",
    "ADMINISTER KEY MANAGEMENT SET KEYSTORE OPEN IDENTIFIED BY \"1234\" CONTAINER = ALL;\n",
    "exit\n",
    "EOF"
   ]
  },
  {
   "cell_type": "code",
   "execution_count": null,
   "metadata": {
    "vscode": {
     "languageId": "shellscript"
    }
   },
   "outputs": [],
   "source": [
    "# Create the TDE master key the HSM Wallet. \n",
    "oracle sqlplus c##$ORACLE_TDE_ADMIN/$ORACLE_PASSWORD@ORCLCDB as sysdba <<EOF\n",
    "ADMINISTER KEY MANAGEMENT SET KEYSTORE OPEN IDENTIFIED BY \"1234\" CONTAINER = ALL;\n",
    "exit\n",
    "EOF"
   ]
  },
  {
   "cell_type": "markdown",
   "metadata": {},
   "source": [
    "## Step 5 - Testing Oracle TDE functionality"
   ]
  },
  {
   "cell_type": "markdown",
   "metadata": {},
   "source": [
    "# Cleanup"
   ]
  },
  {
   "cell_type": "code",
   "execution_count": null,
   "metadata": {
    "vscode": {
     "languageId": "shellscript"
    }
   },
   "outputs": [],
   "source": [
    "# Cleanup\n",
    "\n",
    "# Disable KMIP secrets engine\n",
    "vault secrets disable kmip\n",
    "\n",
    "# Remove KMIP certificate demo files\n",
    "rm -rf root\n",
    "\n",
    "# Stop Vault container\n",
    "docker stop vault-enterprise\n",
    "\n",
    "# Stop Oracle container\n",
    "docker stop oracledb-enterprise"
   ]
  }
 ],
 "metadata": {
  "kernelspec": {
   "display_name": "Bash",
   "language": "bash",
   "name": "bash"
  },
  "language_info": {
   "codemirror_mode": "shell",
   "file_extension": ".sh",
   "mimetype": "text/x-sh",
   "name": "bash"
  },
  "orig_nbformat": 4
 },
 "nbformat": 4,
 "nbformat_minor": 2
}
